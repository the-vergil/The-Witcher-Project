{
 "cells": [
  {
   "cell_type": "code",
   "execution_count": 97,
   "id": "d9ca1990-892b-4bc7-acff-dfa80fb9dc3c",
   "metadata": {},
   "outputs": [],
   "source": [
    "import pandas as pd\n",
    "import time\n",
    "import selenium\n",
    "import matplotlib.pyplot as plt\n",
    "import seaborn as sns\n",
    "import pickle\n",
    "from selenium import webdriver\n",
    "from webdriver_manager.chrome import ChromeDriverManager\n",
    "import warnings\n",
    "warnings.filterwarnings(\"ignore\")"
   ]
  },
  {
   "cell_type": "markdown",
   "id": "5210ab18-fa5d-4730-86aa-b967d7597cd9",
   "metadata": {},
   "source": [
    "## Create driver"
   ]
  },
  {
   "cell_type": "code",
   "execution_count": 60,
   "id": "d0c85e4e-fcae-4ddd-8361-68199b1d9f3f",
   "metadata": {},
   "outputs": [
    {
     "name": "stdout",
     "output_type": "stream",
     "text": [
      "\n"
     ]
    },
    {
     "name": "stderr",
     "output_type": "stream",
     "text": [
      "[WDM] - ====== WebDriver manager ======\n",
      "[WDM] - Current google-chrome version is 102.0.5005\n",
      "[WDM] - Get LATEST chromedriver version for 102.0.5005 google-chrome\n",
      "[WDM] - Driver [C:\\Users\\chetm\\.wdm\\drivers\\chromedriver\\win32\\102.0.5005.61\\chromedriver.exe] found in cache\n"
     ]
    }
   ],
   "source": [
    "driver = webdriver.Chrome(ChromeDriverManager().install())"
   ]
  },
  {
   "cell_type": "code",
   "execution_count": 61,
   "id": "4d573b7e-cdb4-4f47-9d23-e681a7c05ff1",
   "metadata": {},
   "outputs": [],
   "source": [
    "page_url = \"https://witcher.fandom.com/wiki/Category:Characters_in_the_stories\"\n",
    "driver.get(page_url)"
   ]
  },
  {
   "cell_type": "markdown",
   "id": "87a31b2c-ebfe-49bc-8eed-3bdcb703661d",
   "metadata": {},
   "source": [
    "## Scrape book names and links"
   ]
  },
  {
   "cell_type": "code",
   "execution_count": 69,
   "id": "8d05fe51-89c3-4e65-8a49-b6935b80137a",
   "metadata": {},
   "outputs": [
    {
     "data": {
      "text/plain": [
       "[<selenium.webdriver.remote.webelement.WebElement (session=\"a53a9129798e8dc0e54dd076e696d09c\", element=\"deef2941-32e5-46d8-be72-4c420badce13\")>,\n",
       " <selenium.webdriver.remote.webelement.WebElement (session=\"a53a9129798e8dc0e54dd076e696d09c\", element=\"f57432f3-f1ff-4aa7-968b-fe5ad1ac5853\")>,\n",
       " <selenium.webdriver.remote.webelement.WebElement (session=\"a53a9129798e8dc0e54dd076e696d09c\", element=\"2d0339f9-5721-40e3-9153-031b0e0b2f16\")>,\n",
       " <selenium.webdriver.remote.webelement.WebElement (session=\"a53a9129798e8dc0e54dd076e696d09c\", element=\"7896bcb8-2eb6-4b5f-adcc-761a86ab936a\")>,\n",
       " <selenium.webdriver.remote.webelement.WebElement (session=\"a53a9129798e8dc0e54dd076e696d09c\", element=\"6e662750-0aa7-4a4e-b3a7-df4cc1fde1b8\")>,\n",
       " <selenium.webdriver.remote.webelement.WebElement (session=\"a53a9129798e8dc0e54dd076e696d09c\", element=\"18e2c757-10f0-4401-a1be-851536262138\")>,\n",
       " <selenium.webdriver.remote.webelement.WebElement (session=\"a53a9129798e8dc0e54dd076e696d09c\", element=\"3ed77d54-325a-4585-95b1-91536e35ef98\")>,\n",
       " <selenium.webdriver.remote.webelement.WebElement (session=\"a53a9129798e8dc0e54dd076e696d09c\", element=\"e6156d23-d323-447c-81a2-643cf1ed6676\")>,\n",
       " <selenium.webdriver.remote.webelement.WebElement (session=\"a53a9129798e8dc0e54dd076e696d09c\", element=\"35b3e7a9-a8ed-4e39-9668-53965558d486\")>,\n",
       " <selenium.webdriver.remote.webelement.WebElement (session=\"a53a9129798e8dc0e54dd076e696d09c\", element=\"2c13fd66-26e8-415a-a4d9-c32f486a0431\")>,\n",
       " <selenium.webdriver.remote.webelement.WebElement (session=\"a53a9129798e8dc0e54dd076e696d09c\", element=\"d262994c-e77e-4aee-a47d-b170849b4d78\")>,\n",
       " <selenium.webdriver.remote.webelement.WebElement (session=\"a53a9129798e8dc0e54dd076e696d09c\", element=\"8a8a4932-1bf6-4319-993d-73cbb2e36502\")>]"
      ]
     },
     "execution_count": 69,
     "metadata": {},
     "output_type": "execute_result"
    }
   ],
   "source": [
    "book = driver.find_elements_by_class_name(\"category-page__member-link\")\n",
    "book"
   ]
  },
  {
   "cell_type": "code",
   "execution_count": 70,
   "id": "aab17e0a-bb34-4f9b-929b-bd39dae69ab0",
   "metadata": {},
   "outputs": [],
   "source": [
    "books = []\n",
    "for book_names_links in book :\n",
    "    books.append({\"book\" : book_names_links.text, \"link\" : book_names_links.get_attribute(\"href\")})"
   ]
  },
  {
   "cell_type": "code",
   "execution_count": 71,
   "id": "97999b79-772d-4860-84de-4d5c0580c33b",
   "metadata": {},
   "outputs": [
    {
     "data": {
      "text/plain": [
       "[{'book': 'Category:Baptism of Fire characters',\n",
       "  'link': 'https://witcher.fandom.com/wiki/Category:Baptism_of_Fire_characters'},\n",
       " {'book': 'Category:Blood of Elves characters',\n",
       "  'link': 'https://witcher.fandom.com/wiki/Category:Blood_of_Elves_characters'},\n",
       " {'book': \"Godamba Thaess'en\",\n",
       "  'link': 'https://witcher.fandom.com/wiki/Godamba_Thaess%27en'},\n",
       " {'book': 'Category:Season of Storms characters',\n",
       "  'link': 'https://witcher.fandom.com/wiki/Category:Season_of_Storms_characters'},\n",
       " {'book': 'Category:Something Ends, Something Begins characters',\n",
       "  'link': 'https://witcher.fandom.com/wiki/Category:Something_Ends,_Something_Begins_characters'},\n",
       " {'book': 'Category:Sword of Destiny characters',\n",
       "  'link': 'https://witcher.fandom.com/wiki/Category:Sword_of_Destiny_characters'},\n",
       " {'book': 'Category:Szpony i kły characters',\n",
       "  'link': 'https://witcher.fandom.com/wiki/Category:Szpony_i_k%C5%82y_characters'},\n",
       " {'book': 'Category:Tales from the world of The Witcher characters',\n",
       "  'link': 'https://witcher.fandom.com/wiki/Category:Tales_from_the_world_of_The_Witcher_characters'},\n",
       " {'book': 'Category:The Lady of the Lake characters',\n",
       "  'link': 'https://witcher.fandom.com/wiki/Category:The_Lady_of_the_Lake_characters'},\n",
       " {'book': 'Category:The Last Wish characters',\n",
       "  'link': 'https://witcher.fandom.com/wiki/Category:The_Last_Wish_characters'},\n",
       " {'book': 'Category:The Tower of the Swallow characters',\n",
       "  'link': 'https://witcher.fandom.com/wiki/Category:The_Tower_of_the_Swallow_characters'},\n",
       " {'book': 'Category:Time of Contempt characters',\n",
       "  'link': 'https://witcher.fandom.com/wiki/Category:Time_of_Contempt_characters'}]"
      ]
     },
     "execution_count": 71,
     "metadata": {},
     "output_type": "execute_result"
    }
   ],
   "source": [
    "books"
   ]
  },
  {
   "cell_type": "markdown",
   "id": "002b73bf-dde4-4d59-84d3-57f8c713a118",
   "metadata": {},
   "source": [
    "## Scrape character names"
   ]
  },
  {
   "cell_type": "code",
   "execution_count": 72,
   "id": "4812cafd-8e1d-40d1-83cb-4bf300a3b5bd",
   "metadata": {},
   "outputs": [],
   "source": [
    "driver.get(book_links[0])"
   ]
  },
  {
   "cell_type": "code",
   "execution_count": 73,
   "id": "75738632-42a9-4e6c-b0dd-578b2ae3d41b",
   "metadata": {},
   "outputs": [],
   "source": [
    "characters = driver.find_elements_by_class_name(\"category-page__member-link\")"
   ]
  },
  {
   "cell_type": "code",
   "execution_count": 74,
   "id": "28522df7-a4b9-4354-bdde-261a4fbc57bb",
   "metadata": {},
   "outputs": [
    {
     "data": {
      "text/plain": [
       "'Adela'"
      ]
     },
     "execution_count": 74,
     "metadata": {},
     "output_type": "execute_result"
    }
   ],
   "source": [
    "characters[1].text"
   ]
  },
  {
   "cell_type": "code",
   "execution_count": 75,
   "id": "8adf2e9a-22a0-433d-a2a2-24d341e0f40b",
   "metadata": {},
   "outputs": [],
   "source": [
    "characters = []\n",
    "for book in books :\n",
    "    time.sleep(3)\n",
    "    driver.get(book[\"link\"])\n",
    "    charac = driver.find_elements_by_class_name(\"category-page__member-link\")\n",
    "    for character in charac :\n",
    "        characters.append({\"Book\" : book[\"book\"], \"Character\" : character.text})"
   ]
  },
  {
   "cell_type": "code",
   "execution_count": 76,
   "id": "c27024c0-9d1f-4c73-a8d3-14a511aa1b62",
   "metadata": {},
   "outputs": [],
   "source": [
    "witcher_characters = pd.DataFrame(characters)"
   ]
  },
  {
   "cell_type": "code",
   "execution_count": 77,
   "id": "019895d6-8879-4a6d-ad95-8c056c677c12",
   "metadata": {},
   "outputs": [
    {
     "data": {
      "text/html": [
       "<div>\n",
       "<style scoped>\n",
       "    .dataframe tbody tr th:only-of-type {\n",
       "        vertical-align: middle;\n",
       "    }\n",
       "\n",
       "    .dataframe tbody tr th {\n",
       "        vertical-align: top;\n",
       "    }\n",
       "\n",
       "    .dataframe thead th {\n",
       "        text-align: right;\n",
       "    }\n",
       "</style>\n",
       "<table border=\"1\" class=\"dataframe\">\n",
       "  <thead>\n",
       "    <tr style=\"text-align: right;\">\n",
       "      <th></th>\n",
       "      <th>Book</th>\n",
       "      <th>Character</th>\n",
       "    </tr>\n",
       "  </thead>\n",
       "  <tbody>\n",
       "    <tr>\n",
       "      <th>0</th>\n",
       "      <td>Category:Baptism of Fire characters</td>\n",
       "      <td>Adalia</td>\n",
       "    </tr>\n",
       "    <tr>\n",
       "      <th>1</th>\n",
       "      <td>Category:Baptism of Fire characters</td>\n",
       "      <td>Adela</td>\n",
       "    </tr>\n",
       "    <tr>\n",
       "      <th>2</th>\n",
       "      <td>Category:Baptism of Fire characters</td>\n",
       "      <td>Aen Saevherne</td>\n",
       "    </tr>\n",
       "    <tr>\n",
       "      <th>3</th>\n",
       "      <td>Category:Baptism of Fire characters</td>\n",
       "      <td>Aevenien</td>\n",
       "    </tr>\n",
       "    <tr>\n",
       "      <th>4</th>\n",
       "      <td>Category:Baptism of Fire characters</td>\n",
       "      <td>Aglaïs</td>\n",
       "    </tr>\n",
       "  </tbody>\n",
       "</table>\n",
       "</div>"
      ],
      "text/plain": [
       "                                  Book      Character\n",
       "0  Category:Baptism of Fire characters         Adalia\n",
       "1  Category:Baptism of Fire characters          Adela\n",
       "2  Category:Baptism of Fire characters  Aen Saevherne\n",
       "3  Category:Baptism of Fire characters       Aevenien\n",
       "4  Category:Baptism of Fire characters         Aglaïs"
      ]
     },
     "execution_count": 77,
     "metadata": {},
     "output_type": "execute_result"
    }
   ],
   "source": [
    "witcher_characters.head()"
   ]
  },
  {
   "cell_type": "code",
   "execution_count": 83,
   "id": "4be4aa0e-354b-43c4-897a-7838fd3e702f",
   "metadata": {},
   "outputs": [
    {
     "data": {
      "text/html": [
       "<div>\n",
       "<style scoped>\n",
       "    .dataframe tbody tr th:only-of-type {\n",
       "        vertical-align: middle;\n",
       "    }\n",
       "\n",
       "    .dataframe tbody tr th {\n",
       "        vertical-align: top;\n",
       "    }\n",
       "\n",
       "    .dataframe thead th {\n",
       "        text-align: right;\n",
       "    }\n",
       "</style>\n",
       "<table border=\"1\" class=\"dataframe\">\n",
       "  <thead>\n",
       "    <tr style=\"text-align: right;\">\n",
       "      <th></th>\n",
       "      <th>Count</th>\n",
       "    </tr>\n",
       "  </thead>\n",
       "  <tbody>\n",
       "    <tr>\n",
       "      <th>Category:The Lady of the Lake characters</th>\n",
       "      <td>200</td>\n",
       "    </tr>\n",
       "    <tr>\n",
       "      <th>Category:Time of Contempt characters</th>\n",
       "      <td>196</td>\n",
       "    </tr>\n",
       "    <tr>\n",
       "      <th>Category:The Tower of the Swallow characters</th>\n",
       "      <td>186</td>\n",
       "    </tr>\n",
       "    <tr>\n",
       "      <th>Category:Baptism of Fire characters</th>\n",
       "      <td>147</td>\n",
       "    </tr>\n",
       "    <tr>\n",
       "      <th>Category:The Last Wish characters</th>\n",
       "      <td>125</td>\n",
       "    </tr>\n",
       "    <tr>\n",
       "      <th>Category:Blood of Elves characters</th>\n",
       "      <td>123</td>\n",
       "    </tr>\n",
       "    <tr>\n",
       "      <th>Category:Sword of Destiny characters</th>\n",
       "      <td>117</td>\n",
       "    </tr>\n",
       "    <tr>\n",
       "      <th>Category:Season of Storms characters</th>\n",
       "      <td>106</td>\n",
       "    </tr>\n",
       "    <tr>\n",
       "      <th>Category:Something Ends, Something Begins characters</th>\n",
       "      <td>70</td>\n",
       "    </tr>\n",
       "    <tr>\n",
       "      <th>Category:Szpony i kły characters</th>\n",
       "      <td>3</td>\n",
       "    </tr>\n",
       "    <tr>\n",
       "      <th>Category:Tales from the world of The Witcher characters</th>\n",
       "      <td>1</td>\n",
       "    </tr>\n",
       "  </tbody>\n",
       "</table>\n",
       "</div>"
      ],
      "text/plain": [
       "                                                    Count\n",
       "Category:The Lady of the Lake characters              200\n",
       "Category:Time of Contempt characters                  196\n",
       "Category:The Tower of the Swallow characters          186\n",
       "Category:Baptism of Fire characters                   147\n",
       "Category:The Last Wish characters                     125\n",
       "Category:Blood of Elves characters                    123\n",
       "Category:Sword of Destiny characters                  117\n",
       "Category:Season of Storms characters                  106\n",
       "Category:Something Ends, Something Begins chara...     70\n",
       "Category:Szpony i kły characters                        3\n",
       "Category:Tales from the world of The Witcher ch...      1"
      ]
     },
     "execution_count": 83,
     "metadata": {},
     "output_type": "execute_result"
    }
   ],
   "source": [
    "character_counts = witcher_characters.Book.value_counts().to_frame()\n",
    "character_counts.columns = [\"Count\"]\n",
    "character_counts"
   ]
  },
  {
   "cell_type": "code",
   "execution_count": 95,
   "id": "37d951d2-4e77-478e-a0ee-7c20b708d0cc",
   "metadata": {},
   "outputs": [
    {
     "data": {
      "image/png": "[encoded data removed]",
      "text/plain": [
       "<Figure size 1080x432 with 1 Axes>"
      ]
     },
     "metadata": {},
     "output_type": "display_data"
    }
   ],
   "source": [
    "plt.figure(figsize=(15,6))\n",
    "sns.set_theme(style=\"darkgrid\")\n",
    "fig = sns.barplot(x=character_counts.index, y=\"Count\", data=character_counts)\n",
    "fig.tick_params(axis='x', rotation=90)\n",
    "plt.title(\"Number of characters in each Witcher book\")\n",
    "plt.xlabel(\"Books\")\n",
    "plt.ylabel(\"Number of characters\")\n",
    "plt.show()"
   ]
  },
  {
   "cell_type": "code",
   "execution_count": 99,
   "id": "cffe8232-3050-4f38-af22-2519a004a499",
   "metadata": {},
   "outputs": [],
   "source": [
    "pickle.dump(witcher_characters ,open(\"the_witcher_characters_data.pkl\", \"wb\"))"
   ]
  }
 ],
 "metadata": {
  "kernelspec": {
   "display_name": "witcherEnv",
   "language": "python",
   "name": "witcherenv"
  },
  "language_info": {
   "codemirror_mode": {
    "name": "ipython",
    "version": 3
   },
   "file_extension": ".py",
   "mimetype": "text/x-python",
   "name": "python",
   "nbconvert_exporter": "python",
   "pygments_lexer": "ipython3",
   "version": "3.9.0"
  }
 },
 "nbformat": 4,
 "nbformat_minor": 5
}
