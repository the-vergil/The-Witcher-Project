{
 "cells": [
  {
   "cell_type": "markdown",
   "id": "14bffdc6-42c2-468e-879e-b11dd5aa75c6",
   "metadata": {
    "tags": [],
    "toc-hr-collapsed": true
   },
   "source": [
    "# Import Libraries"
   ]
  },
  {
   "cell_type": "code",
   "execution_count": 1,
   "id": "d334d0b5-2f5c-4c3b-b255-0d20cd614850",
   "metadata": {},
   "outputs": [],
   "source": [
    "import pickle\n",
    "import numpy as np\n",
    "import pandas as pd\n",
    "import matplotlib.pyplot as plt\n",
    "import seaborn as sns\n",
    "import spacy\n",
    "import re\n",
    "from spacy import displacy\n",
    "from pyvis.network import Network\n",
    "import networkx as nx\n",
    "from collections import Counter\n",
    "from community import community_louvain\n",
    "import warnings\n",
    "warnings.filterwarnings(\"ignore\")"
   ]
  },
  {
   "cell_type": "markdown",
   "id": "28ba506f-663c-47b5-9357-19c0ddd8da42",
   "metadata": {
    "tags": []
   },
   "source": [
    "## Download english language model for spacy"
   ]
  },
  {
   "cell_type": "code",
   "execution_count": 2,
   "id": "cae83e19-e652-45ae-9610-a9fa7e358b80",
   "metadata": {},
   "outputs": [],
   "source": [
    "# !python -m spacy download en_core_web_sm"
   ]
  },
  {
   "cell_type": "code",
   "execution_count": 3,
   "id": "93fc6093-ce72-4d4d-abc4-1b8b9ff8dc08",
   "metadata": {},
   "outputs": [],
   "source": [
    "# Load spacy English Langauge Model, NER --> Named Entity Recognition\n",
    "nlp = spacy.load(\"en_core_web_sm\")"
   ]
  },
  {
   "cell_type": "code",
   "execution_count": 4,
   "id": "324ade4b-438c-49a8-943d-ff5978c325a0",
   "metadata": {},
   "outputs": [
    {
     "data": {
      "text/plain": [
       "['tok2vec', 'tagger', 'parser', 'attribute_ruler', 'lemmatizer', 'ner']"
      ]
     },
     "execution_count": 4,
     "metadata": {},
     "output_type": "execute_result"
    }
   ],
   "source": [
    "nlp.pipe_names"
   ]
  },
  {
   "cell_type": "markdown",
   "id": "11ab685c-9d08-4580-bc06-26a0278fb99d",
   "metadata": {
    "tags": [],
    "toc-hr-collapsed": true
   },
   "source": [
    "# Load data"
   ]
  },
  {
   "cell_type": "markdown",
   "id": "ee910f1b-b952-4030-b7cf-d147fc6d8165",
   "metadata": {
    "tags": []
   },
   "source": [
    "## Load books"
   ]
  },
  {
   "cell_type": "code",
   "execution_count": 5,
   "id": "ee515664-e1f8-4457-9dbd-ad00db57ca71",
   "metadata": {},
   "outputs": [],
   "source": [
    "pd.set_option(\"display.max_rows\", None)"
   ]
  },
  {
   "cell_type": "code",
   "execution_count": 6,
   "id": "ba31f21f-5b26-48a1-94bf-ebd0acfe47d9",
   "metadata": {},
   "outputs": [],
   "source": [
    "import os \n",
    "all_books = [b.name for b in os.scandir('data') if '.txt' in b.name]"
   ]
  },
  {
   "cell_type": "code",
   "execution_count": 7,
   "id": "278153ed-4dc9-4b30-9ac3-cf2e05284483",
   "metadata": {},
   "outputs": [
    {
     "data": {
      "text/plain": [
       "['1 - The Last Wish.txt',\n",
       " '2 - The Sword of Destiny.txt',\n",
       " '3 - Blood of Elves.txt',\n",
       " '4 - Times of Contempt.txt',\n",
       " '5 - Baptism of Fire.txt',\n",
       " '6 - The Tower of the Swallow.txt',\n",
       " '7 - The Lady of the Lake.txt',\n",
       " '8 - Something Ends Something Begins.txt']"
      ]
     },
     "execution_count": 7,
     "metadata": {},
     "output_type": "execute_result"
    }
   ],
   "source": [
    "all_books"
   ]
  },
  {
   "cell_type": "markdown",
   "id": "2c2fda9b-4e1c-48b8-ab40-112169f8941b",
   "metadata": {
    "tags": []
   },
   "source": [
    "## Load characters data"
   ]
  },
  {
   "cell_type": "code",
   "execution_count": 8,
   "id": "7556ba66-8617-4669-807e-83693e5a627b",
   "metadata": {},
   "outputs": [],
   "source": [
    "characters_df = pickle.load(open(\"the_witcher_characters_data.pkl\", \"rb\"))"
   ]
  },
  {
   "cell_type": "code",
   "execution_count": 9,
   "id": "b311a1e3-225c-4259-b9bf-df46dfd245ee",
   "metadata": {},
   "outputs": [
    {
     "data": {
      "text/html": [
       "<div>\n",
       "<style scoped>\n",
       "    .dataframe tbody tr th:only-of-type {\n",
       "        vertical-align: middle;\n",
       "    }\n",
       "\n",
       "    .dataframe tbody tr th {\n",
       "        vertical-align: top;\n",
       "    }\n",
       "\n",
       "    .dataframe thead th {\n",
       "        text-align: right;\n",
       "    }\n",
       "</style>\n",
       "<table border=\"1\" class=\"dataframe\">\n",
       "  <thead>\n",
       "    <tr style=\"text-align: right;\">\n",
       "      <th></th>\n",
       "      <th>Book</th>\n",
       "      <th>Character</th>\n",
       "    </tr>\n",
       "  </thead>\n",
       "  <tbody>\n",
       "    <tr>\n",
       "      <th>0</th>\n",
       "      <td>Category:Baptism of Fire characters</td>\n",
       "      <td>Adalia</td>\n",
       "    </tr>\n",
       "    <tr>\n",
       "      <th>1</th>\n",
       "      <td>Category:Baptism of Fire characters</td>\n",
       "      <td>Adela</td>\n",
       "    </tr>\n",
       "    <tr>\n",
       "      <th>2</th>\n",
       "      <td>Category:Baptism of Fire characters</td>\n",
       "      <td>Aen Saevherne</td>\n",
       "    </tr>\n",
       "  </tbody>\n",
       "</table>\n",
       "</div>"
      ],
      "text/plain": [
       "                                  Book      Character\n",
       "0  Category:Baptism of Fire characters         Adalia\n",
       "1  Category:Baptism of Fire characters          Adela\n",
       "2  Category:Baptism of Fire characters  Aen Saevherne"
      ]
     },
     "execution_count": 9,
     "metadata": {},
     "output_type": "execute_result"
    }
   ],
   "source": [
    "characters_df.head(3)"
   ]
  },
  {
   "cell_type": "code",
   "execution_count": 10,
   "id": "7ba43ff4-6a4b-43af-a55f-8944a09df530",
   "metadata": {},
   "outputs": [],
   "source": [
    "characters_df[\"character_firstname\"] = characters_df[\"Character\"].apply(lambda x: re.sub(r\"\\([^()]*\\)\", \"\", x))\n",
    "characters_df[\"character_firstname\"] = characters_df[\"Character\"].apply(lambda x: x.split(\" \")[0])"
   ]
  },
  {
   "cell_type": "code",
   "execution_count": 11,
   "id": "ca565032-424f-48a1-82aa-a8f4fe827b7e",
   "metadata": {},
   "outputs": [
    {
     "data": {
      "text/html": [
       "<div>\n",
       "<style scoped>\n",
       "    .dataframe tbody tr th:only-of-type {\n",
       "        vertical-align: middle;\n",
       "    }\n",
       "\n",
       "    .dataframe tbody tr th {\n",
       "        vertical-align: top;\n",
       "    }\n",
       "\n",
       "    .dataframe thead th {\n",
       "        text-align: right;\n",
       "    }\n",
       "</style>\n",
       "<table border=\"1\" class=\"dataframe\">\n",
       "  <thead>\n",
       "    <tr style=\"text-align: right;\">\n",
       "      <th></th>\n",
       "      <th>Book</th>\n",
       "      <th>Character</th>\n",
       "      <th>character_firstname</th>\n",
       "    </tr>\n",
       "  </thead>\n",
       "  <tbody>\n",
       "    <tr>\n",
       "      <th>0</th>\n",
       "      <td>Category:Baptism of Fire characters</td>\n",
       "      <td>Adalia</td>\n",
       "      <td>Adalia</td>\n",
       "    </tr>\n",
       "    <tr>\n",
       "      <th>1</th>\n",
       "      <td>Category:Baptism of Fire characters</td>\n",
       "      <td>Adela</td>\n",
       "      <td>Adela</td>\n",
       "    </tr>\n",
       "    <tr>\n",
       "      <th>2</th>\n",
       "      <td>Category:Baptism of Fire characters</td>\n",
       "      <td>Aen Saevherne</td>\n",
       "      <td>Aen</td>\n",
       "    </tr>\n",
       "  </tbody>\n",
       "</table>\n",
       "</div>"
      ],
      "text/plain": [
       "                                  Book      Character character_firstname\n",
       "0  Category:Baptism of Fire characters         Adalia              Adalia\n",
       "1  Category:Baptism of Fire characters          Adela               Adela\n",
       "2  Category:Baptism of Fire characters  Aen Saevherne                 Aen"
      ]
     },
     "execution_count": 11,
     "metadata": {},
     "output_type": "execute_result"
    }
   ],
   "source": [
    "characters_df[:3]"
   ]
  },
  {
   "cell_type": "markdown",
   "id": "6785a86b-9527-4cd0-bf2c-289550a00db2",
   "metadata": {},
   "source": [
    "### Find books with least characters and remove them "
   ]
  },
  {
   "cell_type": "code",
   "execution_count": 12,
   "id": "87f5777b-ead0-454f-99bd-6cf7522444d7",
   "metadata": {},
   "outputs": [
    {
     "data": {
      "text/plain": [
       "['Category:Szpony i kły characters',\n",
       " 'Category:Tales from the world of The Witcher characters']"
      ]
     },
     "execution_count": 12,
     "metadata": {},
     "output_type": "execute_result"
    }
   ],
   "source": [
    "least_character_books = list(characters_df.Book.value_counts()[-2:].index)\n",
    "least_character_books"
   ]
  },
  {
   "cell_type": "code",
   "execution_count": 13,
   "id": "04231402-6ec3-41f6-8af9-78cb62ebf168",
   "metadata": {},
   "outputs": [],
   "source": [
    "characters_df = characters_df[characters_df[\"Book\"] != least_character_books[0]]\n",
    "characters_df = characters_df[characters_df[\"Book\"] != least_character_books[1]]"
   ]
  },
  {
   "cell_type": "code",
   "execution_count": 14,
   "id": "4dca55cc-d196-47e8-a262-32780d071b18",
   "metadata": {},
   "outputs": [
    {
     "data": {
      "text/plain": [
       "<AxesSubplot:>"
      ]
     },
     "execution_count": 14,
     "metadata": {},
     "output_type": "execute_result"
    },
    {
     "data": {
      "image/png": "[encoded data removed]",
      "text/plain": [
       "<Figure size 720x432 with 1 Axes>"
      ]
     },
     "metadata": {
      "needs_background": "light"
     },
     "output_type": "display_data"
    }
   ],
   "source": [
    "characters_df.Book.value_counts().plot(kind=\"bar\", color=\"skyblue\", figsize=(10,6), align=\"center\")"
   ]
  },
  {
   "cell_type": "markdown",
   "id": "eca67f4f-a17d-4f1d-aa33-a125117bf4a6",
   "metadata": {
    "tags": []
   },
   "source": [
    "# Named Entity Recognition"
   ]
  },
  {
   "cell_type": "code",
   "execution_count": 15,
   "id": "04800378-333b-4698-a11c-3c7462a1f827",
   "metadata": {},
   "outputs": [
    {
     "data": {
      "text/plain": [
       "['data/1 - The Last Wish.txt',\n",
       " 'data/2 - The Sword of Destiny.txt',\n",
       " 'data/3 - Blood of Elves.txt',\n",
       " 'data/4 - Times of Contempt.txt',\n",
       " 'data/5 - Baptism of Fire.txt',\n",
       " 'data/6 - The Tower of the Swallow.txt',\n",
       " 'data/7 - The Lady of the Lake.txt',\n",
       " 'data/8 - Something Ends Something Begins.txt']"
      ]
     },
     "execution_count": 15,
     "metadata": {},
     "output_type": "execute_result"
    }
   ],
   "source": [
    "all_books = [book for book in all_books]\n",
    "book_loc = [(\"data/\" + book) for book in all_books]\n",
    "book_loc"
   ]
  },
  {
   "cell_type": "code",
   "execution_count": 16,
   "id": "7b2c01e5-62f9-461c-9b09-95d1766075ed",
   "metadata": {},
   "outputs": [],
   "source": [
    "book = book_loc[2]\n",
    "book = open(book).read()\n",
    "book_doc = nlp(book)"
   ]
  },
  {
   "cell_type": "code",
   "execution_count": 17,
   "id": "7e2a70e5-a4c0-4ffe-899c-916a2ef4bf9c",
   "metadata": {},
   "outputs": [
    {
     "data": {
      "text/html": [
       "<span class=\"tex2jax_ignore\"><div class=\"entities\" style=\"line-height: 2.5; direction: ltr\">ï»¿Verily I say unto you, the era of the sword and axe is nigh, the era of the wolf's blizzard. The \n",
       "<mark class=\"entity\" style=\"background: #7aecec; padding: 0.45em 0.6em; margin: 0 0.25em; line-height: 1; border-radius: 0.35em;\">\n",
       "    Time\n",
       "    <span style=\"font-size: 0.8em; font-weight: bold; line-height: 1; border-radius: 0.35em; vertical-align: middle; margin-left: 0.5rem\">ORG</span>\n",
       "</mark>\n",
       " </br>of \n",
       "<mark class=\"entity\" style=\"background: #9cc9cc; padding: 0.45em 0.6em; margin: 0 0.25em; line-height: 1; border-radius: 0.35em;\">\n",
       "    the White Chill\n",
       "    <span style=\"font-size: 0.8em; font-weight: bold; line-height: 1; border-radius: 0.35em; vertical-align: middle; margin-left: 0.5rem\">FAC</span>\n",
       "</mark>\n",
       " and \n",
       "<mark class=\"entity\" style=\"background: #7aecec; padding: 0.45em 0.6em; margin: 0 0.25em; line-height: 1; border-radius: 0.35em;\">\n",
       "    the White Light\n",
       "    <span style=\"font-size: 0.8em; font-weight: bold; line-height: 1; border-radius: 0.35em; vertical-align: middle; margin-left: 0.5rem\">ORG</span>\n",
       "</mark>\n",
       " is nigh, \n",
       "<mark class=\"entity\" style=\"background: #7aecec; padding: 0.45em 0.6em; margin: 0 0.25em; line-height: 1; border-radius: 0.35em;\">\n",
       "    the Time of Madness and the Time of Contempt\n",
       "    <span style=\"font-size: 0.8em; font-weight: bold; line-height: 1; border-radius: 0.35em; vertical-align: middle; margin-left: 0.5rem\">ORG</span>\n",
       "</mark>\n",
       ": </br>\n",
       "<mark class=\"entity\" style=\"background: #aa9cfc; padding: 0.45em 0.6em; margin: 0 0.25em; line-height: 1; border-radius: 0.35em;\">\n",
       "    Tedd Deireddh\n",
       "    <span style=\"font-size: 0.8em; font-weight: bold; line-height: 1; border-radius: 0.35em; vertical-align: middle; margin-left: 0.5rem\">PERSON</span>\n",
       "</mark>\n",
       ", \n",
       "<mark class=\"entity\" style=\"background: #feca74; padding: 0.45em 0.6em; margin: 0 0.25em; line-height: 1; border-radius: 0.35em;\">\n",
       "    the Time of End\n",
       "    <span style=\"font-size: 0.8em; font-weight: bold; line-height: 1; border-radius: 0.35em; vertical-align: middle; margin-left: 0.5rem\">GPE</span>\n",
       "</mark>\n",
       ". The world will die amidst frost and be reborn with the new sun. </br>It will be reborn of \n",
       "<mark class=\"entity\" style=\"background: #9cc9cc; padding: 0.45em 0.6em; margin: 0 0.25em; line-height: 1; border-radius: 0.35em;\">\n",
       "    the Elder Blood\n",
       "    <span style=\"font-size: 0.8em; font-weight: bold; line-height: 1; border-radius: 0.35em; vertical-align: middle; margin-left: 0.5rem\">FAC</span>\n",
       "</mark>\n",
       ", of \n",
       "<mark class=\"entity\" style=\"background: #7aecec; padding: 0.45em 0.6em; margin: 0 0.25em; line-height: 1; border-radius: 0.35em;\">\n",
       "    Hen Ichaer\n",
       "    <span style=\"font-size: 0.8em; font-weight: bold; line-height: 1; border-radius: 0.35em; vertical-align: middle; margin-left: 0.5rem\">ORG</span>\n",
       "</mark>\n",
       ", of the seed that has been sown. A seed which </br>will not sprout but will burst into flame. </br>Ess'tuath esse! Thus it shall be! Watch for the signs! What signs these shall be, I say unto you: \n",
       "<mark class=\"entity\" style=\"background: #e4e7d2; padding: 0.45em 0.6em; margin: 0 0.25em; line-height: 1; border-radius: 0.35em;\">\n",
       "    first\n",
       "    <span style=\"font-size: 0.8em; font-weight: bold; line-height: 1; border-radius: 0.35em; vertical-align: middle; margin-left: 0.5rem\">ORDINAL</span>\n",
       "</mark>\n",
       " </br>the earth will flow with the blood of \n",
       "<mark class=\"entity\" style=\"background: #7aecec; padding: 0.45em 0.6em; margin: 0 0.25em; line-height: 1; border-radius: 0.35em;\">\n",
       "    Aen Seidhe\n",
       "    <span style=\"font-size: 0.8em; font-weight: bold; line-height: 1; border-radius: 0.35em; vertical-align: middle; margin-left: 0.5rem\">ORG</span>\n",
       "</mark>\n",
       ", \n",
       "<mark class=\"entity\" style=\"background: #7aecec; padding: 0.45em 0.6em; margin: 0 0.25em; line-height: 1; border-radius: 0.35em;\">\n",
       "    the Blood of Elves\n",
       "    <span style=\"font-size: 0.8em; font-weight: bold; line-height: 1; border-radius: 0.35em; vertical-align: middle; margin-left: 0.5rem\">ORG</span>\n",
       "</mark>\n",
       " ... </br></br></br>\n",
       "<mark class=\"entity\" style=\"background: #7aecec; padding: 0.45em 0.6em; margin: 0 0.25em; line-height: 1; border-radius: 0.35em;\">\n",
       "    Aen Ithlinnespeath\n",
       "    <span style=\"font-size: 0.8em; font-weight: bold; line-height: 1; border-radius: 0.35em; vertical-align: middle; margin-left: 0.5rem\">ORG</span>\n",
       "</mark>\n",
       ", Ithlinne Aegli aep \n",
       "<mark class=\"entity\" style=\"background: #feca74; padding: 0.45em 0.6em; margin: 0 0.25em; line-height: 1; border-radius: 0.35em;\">\n",
       "    Aevenien\n",
       "    <span style=\"font-size: 0.8em; font-weight: bold; line-height: 1; border-radius: 0.35em; vertical-align: middle; margin-left: 0.5rem\">GPE</span>\n",
       "</mark>\n",
       "'s prophecy </br></br>I </br>CHAPTER \n",
       "<mark class=\"entity\" style=\"background: #e4e7d2; padding: 0.45em 0.6em; margin: 0 0.25em; line-height: 1; border-radius: 0.35em;\">\n",
       "    ONE\n",
       "    <span style=\"font-size: 0.8em; font-weight: bold; line-height: 1; border-radius: 0.35em; vertical-align: middle; margin-left: 0.5rem\">CARDINAL</span>\n",
       "</mark>\n",
       " </br></br>The town was in flames. </br>The narrow streets leading to the moat and the \n",
       "<mark class=\"entity\" style=\"background: #e4e7d2; padding: 0.45em 0.6em; margin: 0 0.25em; line-height: 1; border-radius: 0.35em;\">\n",
       "    first\n",
       "    <span style=\"font-size: 0.8em; font-weight: bold; line-height: 1; border-radius: 0.35em; vertical-align: middle; margin-left: 0.5rem\">ORDINAL</span>\n",
       "</mark>\n",
       " terrace belched smoke and embers, flames devouring </br>the densely clustered thatched houses and licking at the castle walls. From the west, from the harbour </br>gate, the screams and clamour of vicious battle and the dull blows of a battering ram smashing against the </br>walls grew ever louder. </br>Their attackers had surrounded them unexpectedly, shattering the barricades which had been held by no </br>more than a few soldiers, a handful of townsmen carrying halberds and some crossbowmen from the </br>guild. Their horses, decked out in flowing black caparisons, flew over the barricades like spectres, their </br>riders' bright, glistening blades sowing death amongst the fleeing defenders. </br>Ciri felt the knight who carried her before him on his saddle abruptly spur his horse. She heard his cry. </br>'Hold on,' he shouted. 'Hold on!' </br>Other knights wearing the colours of \n",
       "<mark class=\"entity\" style=\"background: #7aecec; padding: 0.45em 0.6em; margin: 0 0.25em; line-height: 1; border-radius: 0.35em;\">\n",
       "    Cintra\n",
       "    <span style=\"font-size: 0.8em; font-weight: bold; line-height: 1; border-radius: 0.35em; vertical-align: middle; margin-left: 0.5rem\">ORG</span>\n",
       "</mark>\n",
       " overtook them, sparring, even in full flight, with the </br>\n",
       "<mark class=\"entity\" style=\"background: #c887fb; padding: 0.45em 0.6em; margin: 0 0.25em; line-height: 1; border-radius: 0.35em;\">\n",
       "    Nilfgaardians\n",
       "    <span style=\"font-size: 0.8em; font-weight: bold; line-height: 1; border-radius: 0.35em; vertical-align: middle; margin-left: 0.5rem\">NORP</span>\n",
       "</mark>\n",
       ". \n",
       "<mark class=\"entity\" style=\"background: #7aecec; padding: 0.45em 0.6em; margin: 0 0.25em; line-height: 1; border-radius: 0.35em;\">\n",
       "    Ciri\n",
       "    <span style=\"font-size: 0.8em; font-weight: bold; line-height: 1; border-radius: 0.35em; vertical-align: middle; margin-left: 0.5rem\">ORG</span>\n",
       "</mark>\n",
       " caught a glimpse of the skirmish from the corner of her eye - the crazed swirl of </br>blue-gold and black cloaks amidst the clash of steel, the clatter of blades against shields, the neighing of </br>horses- </br>Shouts. No, not shouts. Screams. </br>'Hold on!' </br>Fear. With every jolt, every jerk, every leap of the horse pain shot through her hands as she clutched at </br>the reins. Her legs contracted painfully, unable to find support, her eyes watered from the smoke. The </br>arm around her suffocated her, choking her, the force compressing her ribs. All around her screaming </br></br></br>such as she had never before heard </div></span>"
      ],
      "text/plain": [
       "<IPython.core.display.HTML object>"
      ]
     },
     "metadata": {},
     "output_type": "display_data"
    }
   ],
   "source": [
    "displacy.render(book_doc[:500], style=\"ent\", jupyter=True)"
   ]
  },
  {
   "cell_type": "markdown",
   "id": "63d2746c-9dde-4afc-b92d-44443eafc289",
   "metadata": {
    "tags": [],
    "toc-hr-collapsed": true
   },
   "source": [
    "# Extract relationships"
   ]
  },
  {
   "cell_type": "markdown",
   "id": "2e60daad-87fb-48b0-99e9-ec0759fb6f87",
   "metadata": {
    "tags": []
   },
   "source": [
    "## Get named entity list per sentence"
   ]
  },
  {
   "cell_type": "code",
   "execution_count": 18,
   "id": "76599f09-e03a-4d4d-80c7-0f012fa40549",
   "metadata": {},
   "outputs": [],
   "source": [
    "def entity_per_sentence(book_doc) :\n",
    "    sent_entity_df = []\n",
    "\n",
    "    for sent in book_doc.sents :\n",
    "        entity_list = [ent.text for ent in sent.ents]\n",
    "        sent_entity_df.append({\"sentence\" : sent, \"entities\" : entity_list})\n",
    "    \n",
    "    sent_entity_df = pd.DataFrame(sent_entity_df)\n",
    "    return sent_entity_df"
   ]
  },
  {
   "cell_type": "markdown",
   "id": "b78e3cc7-5a45-4a76-a3d5-a8de0ce327f1",
   "metadata": {
    "tags": []
   },
   "source": [
    "## Filter out non-characters entities"
   ]
  },
  {
   "cell_type": "code",
   "execution_count": 19,
   "id": "35fb2e78-f018-4186-8e0d-d9521285cb83",
   "metadata": {},
   "outputs": [],
   "source": [
    "def filter_entities(ent_list, characters_df) :\n",
    "    return [ent for ent in ent_list\n",
    "           if ent in list(characters_df.Character) or\n",
    "           ent in list(characters_df.character_firstname)]"
   ]
  },
  {
   "cell_type": "markdown",
   "id": "61db08d8-7b29-4a92-92f0-6bdc244936de",
   "metadata": {
    "tags": []
   },
   "source": [
    "## Create relationships"
   ]
  },
  {
   "cell_type": "code",
   "execution_count": 20,
   "id": "fe5fc9c3-8dbc-44f0-8dfd-99e32908e438",
   "metadata": {},
   "outputs": [],
   "source": [
    "def create_relationships(sent_entity_filtered) :\n",
    "    window_size = 5\n",
    "    relationships = []\n",
    "\n",
    "    for i in range(sent_entity_filtered.index[-1]) :\n",
    "        end_i = min(i+5, sent_entity_filtered.index[-1])\n",
    "        char_list = sum((sent_entity_filtered.iloc[i: end_i].character_entity), [])\n",
    "\n",
    "        ## remove duplicated characters from the lists\n",
    "        char_unique = list(Counter(char_list).keys())\n",
    "\n",
    "        if len(char_unique)>1 :\n",
    "            for idx, a in enumerate(char_unique[:-1]) :\n",
    "                b = char_unique[idx+1]\n",
    "                relationships.append({\"source\" : a, \"target\" : b})\n",
    "    \n",
    "    relationship_df = pd.DataFrame(relationships)\n",
    "    return relationship_df"
   ]
  },
  {
   "cell_type": "markdown",
   "id": "bdf5cbb4-d584-47bc-887b-b3752caf5d18",
   "metadata": {
    "tags": []
   },
   "source": [
    "## Function to create relationship"
   ]
  },
  {
   "cell_type": "code",
   "execution_count": 21,
   "id": "e20028e3-586e-4a2b-bfda-dff6ab45dfd7",
   "metadata": {},
   "outputs": [],
   "source": [
    "def relationship(book_doc, characters_df) :\n",
    "    sent_entities = entity_per_sentence(book_doc)\n",
    "    \n",
    "    sent_entities[\"character_entity\"] = sent_entities[\"entities\"].apply(lambda x: filter_entities(x, characters_df))\n",
    "\n",
    "    ## removing sentences with no entities\n",
    "    sent_entities_filtered = sent_entities[sent_entities[\"character_entity\"].map(len)>0]\n",
    "\n",
    "    ## take only first name of the characters\n",
    "    sent_entities_filtered[\"character_entity\"] = sent_entities_filtered[\"character_entity\"].apply(lambda x: [item.split(\" \")[0] for item in x])\n",
    "    \n",
    "    relationship_df = create_relationships(sent_entities_filtered)\n",
    "    relationship_df = relationship_df.sort_values(by=[\"source\", \"target\"])\n",
    "    relationship_df[\"value\"] = 1\n",
    "    relationship_df = relationship_df.groupby([\"source\", \"target\"], sort=False, as_index=False).sum()\n",
    "    \n",
    "    return relationship_df"
   ]
  },
  {
   "cell_type": "code",
   "execution_count": null,
   "id": "92f77cc0-efe0-4d67-bd14-63bfc5ef3fd7",
   "metadata": {},
   "outputs": [],
   "source": [
    "relationships = []\n",
    "\n",
    "for i in range(len(book_loc)) :\n",
    "    book = book_loc[i]\n",
    "    book = open(book).read()\n",
    "    book_doc = nlp(book)\n",
    "\n",
    "    relationship_df = relationship(book_doc, characters_df)\n",
    "    \n",
    "    relationships.append({\"Book\" : book_loc[i].split(\"/\")[1], \"Relationship\" : relationship_df})"
   ]
  },
  {
   "cell_type": "code",
   "execution_count": null,
   "id": "89770517-741b-4012-899d-d332d0baeb83",
   "metadata": {},
   "outputs": [],
   "source": [
    "relationships[0][\"Relationship\"][:5]"
   ]
  },
  {
   "cell_type": "markdown",
   "id": "c37ac73c-c8a7-4a0b-b72c-7b185f3a1175",
   "metadata": {
    "jp-MarkdownHeadingCollapsed": true,
    "tags": [],
    "toc-hr-collapsed": true
   },
   "source": [
    "# Visualizing character relationships"
   ]
  },
  {
   "cell_type": "markdown",
   "id": "69bc5923-21bf-4449-a388-5257e7e7770b",
   "metadata": {
    "jp-MarkdownHeadingCollapsed": true,
    "tags": []
   },
   "source": [
    "## Simple static network graph"
   ]
  },
  {
   "cell_type": "code",
   "execution_count": null,
   "id": "f49d8219-37d1-4bc1-bec8-fe277608be8a",
   "metadata": {},
   "outputs": [],
   "source": [
    "for i in range(len(relationships)) :\n",
    "    G = nx.from_pandas_edgelist(df=relationships[i][\"Relationship\"], source=\"source\", target=\"target\", edge_attr=\"value\", create_using=nx.Graph())\n",
    "\n",
    "    plt.figure(figsize=(20,10))\n",
    "    pos = nx.kamada_kawai_layout(G)\n",
    "    nx.draw(G, with_labels=True, node_color=\"skyblue\", edge_cmap=plt.cm.Blues, pos=pos)\n",
    "    plt.title(relationships[i][\"Book\"].split(\".\")[0], fontdict={\"fontsize\" : 30})\n",
    "    plt.show()"
   ]
  },
  {
   "cell_type": "markdown",
   "id": "82e859f2-6cae-4b3a-bca0-2fa39f6a66f7",
   "metadata": {
    "jp-MarkdownHeadingCollapsed": true,
    "tags": []
   },
   "source": [
    "## Dynamic relationship network graph"
   ]
  },
  {
   "cell_type": "code",
   "execution_count": null,
   "id": "db8c4aaa-b164-49fc-9e7f-c8d2da3e4012",
   "metadata": {},
   "outputs": [],
   "source": [
    "def plot_relationships() :\n",
    "    \n",
    "    if os.path.exists(\"relationship_network/\") :\n",
    "        pass\n",
    "    else :\n",
    "        os.mkdir(\"relationship_network/\")\n",
    "        \n",
    "    for i in range(len(relationships)) :\n",
    "        G = nx.from_pandas_edgelist(df=relationships[i][\"Relationship\"], source=\"source\", target=\"target\", edge_attr=\"value\", create_using=nx.Graph())\n",
    "\n",
    "        net = Network(notebook=True, width=\"1200px\", height=\"600px\", bgcolor=\"#222222\", font_color=\"white\")\n",
    "\n",
    "        node_degree = dict(G.degree)\n",
    "\n",
    "        ## setting up node size attribute\n",
    "        nx.set_node_attributes(G, node_degree, \"size\")\n",
    "\n",
    "        net.from_nx(G)\n",
    "        net.show(\"relationship_network/{book}.html\".format(book=relationships[i][\"Book\"].split(\".\")[0]))"
   ]
  },
  {
   "cell_type": "code",
   "execution_count": null,
   "id": "45e50325-ef84-4243-8185-d03ea6087a38",
   "metadata": {},
   "outputs": [],
   "source": [
    "plot_relationships()"
   ]
  },
  {
   "cell_type": "markdown",
   "id": "83dc5629-f129-4cbb-8113-9742342a18c1",
   "metadata": {
    "jp-MarkdownHeadingCollapsed": true,
    "tags": [],
    "toc-hr-collapsed": true
   },
   "source": [
    "# Most important characters"
   ]
  },
  {
   "cell_type": "markdown",
   "id": "f44640cc-9b7a-4094-bb74-4de3ad94c4c1",
   "metadata": {
    "jp-MarkdownHeadingCollapsed": true,
    "tags": []
   },
   "source": [
    "## Degree centrality"
   ]
  },
  {
   "cell_type": "code",
   "execution_count": null,
   "id": "105c2695-ba80-454d-9eff-c5e0872bcd3c",
   "metadata": {},
   "outputs": [],
   "source": [
    "for i in range(len(relationships)) :\n",
    "    G = nx.from_pandas_edgelist(df=relationships[i][\"Relationship\"], source=\"source\", target=\"target\", edge_attr=\"value\", create_using=nx.Graph())\n",
    "    \n",
    "    degree_dict = nx.degree_centrality(G)\n",
    "    \n",
    "    degree_df = pd.DataFrame.from_dict(degree_dict, orient=\"index\", columns=[\"centrality\"])\n",
    "    degree_df_top_10 = degree_df.sort_values(\"centrality\", ascending=False)[:9]\n",
    "    \n",
    "    plt.figure(figsize=(10,6))\n",
    "    sns.set_theme(style=\"darkgrid\")\n",
    "    fig = sns.barplot(x=degree_df_top_10.index, y=\"centrality\", data=degree_df_top_10)\n",
    "    plt.title(\"{book} - Important Characters\".format(book=relationships[i][\"Book\"].split(\".\")[0]), fontdict={\"fontsize\" : 15})\n",
    "    plt.xlabel(\"Characters\")\n",
    "    plt.ylabel(\"Importance\")\n",
    "    plt.show()"
   ]
  },
  {
   "cell_type": "markdown",
   "id": "762a3f41-d6a0-4068-b32c-793e05e09be6",
   "metadata": {
    "jp-MarkdownHeadingCollapsed": true,
    "tags": []
   },
   "source": [
    "## Betweenness Centrality"
   ]
  },
  {
   "cell_type": "code",
   "execution_count": null,
   "id": "3ade4186-9803-4b66-920e-7c360bd308d5",
   "metadata": {},
   "outputs": [],
   "source": [
    "for i in range(len(relationships)) :\n",
    "    G = nx.from_pandas_edgelist(df=relationships[i][\"Relationship\"], source=\"source\", target=\"target\", edge_attr=\"value\", create_using=nx.Graph())\n",
    "    \n",
    "    degree_dict = nx.betweenness_centrality(G)\n",
    "    \n",
    "    degree_df = pd.DataFrame.from_dict(degree_dict, orient=\"index\", columns=[\"centrality\"])\n",
    "    degree_df_top_10 = degree_df.sort_values(\"centrality\", ascending=False)[:9]\n",
    "    \n",
    "    plt.figure(figsize=(10,6))\n",
    "    sns.set_theme(style=\"darkgrid\")\n",
    "    fig = sns.barplot(x=degree_df_top_10.index, y=\"centrality\", data=degree_df_top_10)\n",
    "    plt.title(\"{book} - Important Characters\".format(book=relationships[i][\"Book\"].split(\".\")[0]), fontdict={\"fontsize\" : 15})\n",
    "    plt.xlabel(\"Characters\")\n",
    "    plt.ylabel(\"Importance\")\n",
    "    plt.show()"
   ]
  },
  {
   "cell_type": "markdown",
   "id": "3f53c980-e52a-41d8-9d57-965c9be8fea2",
   "metadata": {
    "jp-MarkdownHeadingCollapsed": true,
    "tags": []
   },
   "source": [
    "## Closeness Centrality"
   ]
  },
  {
   "cell_type": "code",
   "execution_count": null,
   "id": "bd0dc9ff-1070-447c-ac49-1417c67e1838",
   "metadata": {},
   "outputs": [],
   "source": [
    "for i in range(len(relationships)) :\n",
    "    G = nx.from_pandas_edgelist(df=relationships[i][\"Relationship\"], source=\"source\", target=\"target\", edge_attr=\"value\", create_using=nx.Graph())\n",
    "    \n",
    "    degree_dict = nx.closeness_centrality(G)\n",
    "    \n",
    "    degree_df = pd.DataFrame.from_dict(degree_dict, orient=\"index\", columns=[\"centrality\"])\n",
    "    degree_df_top_10 = degree_df.sort_values(\"centrality\", ascending=False)[:9]\n",
    "    \n",
    "    plt.figure(figsize=(10,6))\n",
    "    sns.set_theme(style=\"darkgrid\")\n",
    "    fig = sns.barplot(x=degree_df_top_10.index, y=\"centrality\", data=degree_df_top_10)\n",
    "    plt.title(\"{book} - Important Characters\".format(book=relationships[i][\"Book\"].split(\".\")[0]), fontdict={\"fontsize\" : 15})\n",
    "    plt.xlabel(\"Characters\")\n",
    "    plt.ylabel(\"Importance\")\n",
    "    plt.show()"
   ]
  },
  {
   "cell_type": "markdown",
   "id": "3327eb86-98f3-4c44-802b-3be883e4403d",
   "metadata": {
    "jp-MarkdownHeadingCollapsed": true,
    "tags": []
   },
   "source": [
    "# Community Detection"
   ]
  },
  {
   "cell_type": "code",
   "execution_count": null,
   "id": "8194a203-334e-4bee-915c-53468764f9a8",
   "metadata": {},
   "outputs": [],
   "source": [
    "G = nx.from_pandas_edgelist(df=relationships[0][\"Relationship\"], source=\"source\", target=\"target\", edge_attr=\"value\", create_using=nx.Graph())\n",
    "\n",
    "communities = community_louvain.best_partition(G)\n",
    "nx.set_node_attributes(G, communities, \"group\")\n",
    "com_net = Network(height=\"800px\", width=\"1500px\", notebook=True, bgcolor=\"#222222\", font_color=\"white\")\n",
    "com_net.from_nx(G)\n",
    "com_net.show(\"{book}.html\".format(book=relationships[0][\"Book\"]))"
   ]
  },
  {
   "cell_type": "code",
   "execution_count": null,
   "id": "906b047f-fbc5-4f5b-8ed9-44f75beec756",
   "metadata": {},
   "outputs": [],
   "source": [
    "def plot_community_network() :\n",
    "    \n",
    "    if os.path.exists(\"community_network/\") :\n",
    "        pass\n",
    "    else :\n",
    "        os.mkdir(\"community_network/\")\n",
    "    \n",
    "    for i in range(len(relationships)) :\n",
    "        G = nx.from_pandas_edgelist(df=relationships[i][\"Relationship\"], source=\"source\", target=\"target\", edge_attr=\"value\", create_using=nx.Graph())\n",
    "\n",
    "        communities = community_louvain.best_partition(G)\n",
    "        nx.set_node_attributes(G, communities, \"group\")\n",
    "        com_net = Network(height=\"750px\", width=\"1500px\", notebook=True, bgcolor=\"#222222\", font_color=\"white\")\n",
    "        com_net.from_nx(G)\n",
    "        com_net.show(\"community_network/{book}.html\".format(book=relationships[i][\"Book\"].split(\".\")[0]))"
   ]
  },
  {
   "cell_type": "code",
   "execution_count": null,
   "id": "76e7f165-fc55-471f-95f4-e388ed121922",
   "metadata": {},
   "outputs": [],
   "source": [
    "plot_community_network()"
   ]
  },
  {
   "cell_type": "markdown",
   "id": "35279c3c-5118-4da8-90ac-c0d4bb4c4a85",
   "metadata": {
    "tags": []
   },
   "source": [
    "# Importance of character over time"
   ]
  },
  {
   "cell_type": "code",
   "execution_count": null,
   "id": "7e8a58b9-b9da-4ec1-9a7b-7b2fa2105cd3",
   "metadata": {},
   "outputs": [],
   "source": [
    "degree_centrality_books = []\n",
    "for i in range(len(relationships)) :\n",
    "    G = nx.from_pandas_edgelist(df=relationships[i][\"Relationship\"], source=\"source\", target=\"target\", edge_attr=\"value\", create_using=nx.Graph())\n",
    "\n",
    "    degree_dict = nx.degree_centrality(G)\n",
    "    l_dict = len(degree_dict.keys())\n",
    "    book_degree_centrality = pd.DataFrame(degree_dict, index=[0]).transpose()\n",
    "    book_degree_centrality = book_degree_centrality.reset_index()    \n",
    "    book_degree_centrality.columns = [\"character\", \"importance\"]\n",
    "    \n",
    "    degree_centrality_books.append({\"Book\" : relationships[i][\"Book\"], \"Importance\" : book_degree_centrality})"
   ]
  },
  {
   "cell_type": "code",
   "execution_count": null,
   "id": "be4f358d-2a86-48c1-b39a-515e95d07240",
   "metadata": {},
   "outputs": [],
   "source": [
    "degree_centrality_books[7][\"Importance\"][degree_centrality_books[7][\"Importance\"][\"character\"]==\"Geralt\"]"
   ]
  },
  {
   "cell_type": "code",
   "execution_count": null,
   "id": "6e081fc2-4a8f-47d2-a4f4-c7144b0c6811",
   "metadata": {},
   "outputs": [],
   "source": [
    "def importance_of_character(*characters) :\n",
    "    data = pd.DataFrame()\n",
    "    \n",
    "    for character in characters :\n",
    "        for book in degree_centrality_books :\n",
    "            data = data.append(book[\"Importance\"][book[\"Importance\"][\"character\"]==character], ignore_index=True)\n",
    "    \n",
    "    \n",
    "            \n",
    "    return data"
   ]
  },
  {
   "cell_type": "code",
   "execution_count": null,
   "id": "b803101f-97f9-4744-9ec6-3e1385a982a5",
   "metadata": {},
   "outputs": [],
   "source": [
    "importance_of_character(\"Geralt\")"
   ]
  },
  {
   "cell_type": "code",
   "execution_count": null,
   "id": "33c422f1-cfc1-4884-8b7e-727844757f81",
   "metadata": {},
   "outputs": [],
   "source": []
  }
 ],
 "metadata": {
  "kernelspec": {
   "display_name": "witcherEnv",
   "language": "python",
   "name": "witcherenv"
  },
  "language_info": {
   "codemirror_mode": {
    "name": "ipython",
    "version": 3
   },
   "file_extension": ".py",
   "mimetype": "text/x-python",
   "name": "python",
   "nbconvert_exporter": "python",
   "pygments_lexer": "ipython3",
   "version": "3.9.0"
  },
  "toc-autonumbering": true,
  "toc-showmarkdowntxt": false
 },
 "nbformat": 4,
 "nbformat_minor": 5
}
